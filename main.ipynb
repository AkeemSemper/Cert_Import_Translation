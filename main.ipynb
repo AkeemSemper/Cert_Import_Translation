{
 "cells": [
  {
   "cell_type": "code",
   "execution_count": 1,
   "metadata": {},
   "outputs": [],
   "source": [
    "import pandas as pd"
   ]
  },
  {
   "cell_type": "markdown",
   "metadata": {},
   "source": [
    "### State Variables and Defaults"
   ]
  },
  {
   "cell_type": "code",
   "execution_count": 49,
   "metadata": {},
   "outputs": [],
   "source": [
    "CERT_NUMBER = \"Cert_number\"\n",
    "CERT_NAME = \"Cert_name\"\n",
    "PATH = \"Path\"\n",
    "PATH_RECERT = \"Path_recert\"\n",
    "COURSE_CODE = \"Course_code\"\n",
    "COURSE_TITLE = \"Course_title\"\n",
    "COURSE_VERSION = \"Course_version\"\n",
    "TARGET_DAYS = \"Target_days\"\n",
    "EXPIRES_IN = \"Expires_in\"\n",
    "CERT_DESC = \"Cert_desc\"\n",
    "\n",
    "VERSION = \"V0\"\n",
    "DOMAIN = \"CNL Global\"\n",
    "AVAILABLE_FROM = \"1900-01-01\"\n",
    "STATUS = \"in effect\"\n",
    "DISPLAY_TO_LEARNER = True\n",
    "EXPIRY_TYPE = 1\n",
    "NOTIFY_BEFORE = 90\n",
    "ENFORCE_TARGET_DATE = False\n",
    "ONE_CLICK_REG = True\n",
    "\n",
    "MODULE_REQUIRED = True\n"
   ]
  },
  {
   "cell_type": "markdown",
   "metadata": {},
   "source": [
    "### Helper Classes"
   ]
  },
  {
   "cell_type": "code",
   "execution_count": 55,
   "metadata": {},
   "outputs": [],
   "source": [
    "class Certification:\n",
    "    def __init__(self, cert_name, target_days, expires_days, description):\n",
    "        self.cert_name = cert_name\n",
    "        self.target_days = target_days\n",
    "        self.expires_days = expires_days\n",
    "        self.description = description\n",
    "        self.paths = []\n",
    "    def add_path(self, path):\n",
    "        self.paths.append(path)\n",
    "    def print_info(self):\n",
    "        print(\"Cert Name:\", self.cert_name)\n",
    "        print(\"Paths: \", len(self.paths))\n",
    "        print(\"Target: \", self.target_days)\n",
    "        print(\"Expires: \", self.expires_days)\n",
    "\n",
    "class Path:\n",
    "    def __init__(self, path_name, is_recert):\n",
    "        self.path_name = path_name\n",
    "        self.is_recert = is_recert\n",
    "        self.modules = []\n",
    "    def add_module(self, module):\n",
    "        self.modules.append(module)\n",
    "\n",
    "class Module:\n",
    "    def __init__(self):\n",
    "        self.courses = []\n",
    "    def add_course(self, code, title, version):\n",
    "        self.courses.append((code,title,version))\n",
    "    def print_info(self):\n",
    "        print(self.courses)\n"
   ]
  },
  {
   "cell_type": "markdown",
   "metadata": {},
   "source": [
    "### Load Input File"
   ]
  },
  {
   "cell_type": "code",
   "execution_count": 28,
   "metadata": {},
   "outputs": [
    {
     "data": {
      "text/html": [
       "<div>\n",
       "<style scoped>\n",
       "    .dataframe tbody tr th:only-of-type {\n",
       "        vertical-align: middle;\n",
       "    }\n",
       "\n",
       "    .dataframe tbody tr th {\n",
       "        vertical-align: top;\n",
       "    }\n",
       "\n",
       "    .dataframe thead th {\n",
       "        text-align: right;\n",
       "    }\n",
       "</style>\n",
       "<table border=\"1\" class=\"dataframe\">\n",
       "  <thead>\n",
       "    <tr style=\"text-align: right;\">\n",
       "      <th></th>\n",
       "      <th>Cert_number</th>\n",
       "      <th>Cert_name</th>\n",
       "      <th>Target_days</th>\n",
       "      <th>Expires_in</th>\n",
       "      <th>Cert_desc</th>\n",
       "      <th>Path</th>\n",
       "      <th>Path_recert</th>\n",
       "      <th>Module</th>\n",
       "      <th>Course_code</th>\n",
       "      <th>Course_title</th>\n",
       "      <th>Course_version</th>\n",
       "    </tr>\n",
       "  </thead>\n",
       "  <tbody>\n",
       "    <tr>\n",
       "      <th>0</th>\n",
       "      <td>1</td>\n",
       "      <td>Aerial Work Platform Practical - Articulating ...</td>\n",
       "      <td>42</td>\n",
       "      <td>1095</td>\n",
       "      <td>This certification qualifies workers to operat...</td>\n",
       "      <td>Main</td>\n",
       "      <td>False</td>\n",
       "      <td>Main</td>\n",
       "      <td>OSH-1003-Online</td>\n",
       "      <td>Aerial Work Platform Theory (R3)</td>\n",
       "      <td>1.6</td>\n",
       "    </tr>\n",
       "    <tr>\n",
       "      <th>1</th>\n",
       "      <td>1</td>\n",
       "      <td>Aerial Work Platform Practical - Articulating ...</td>\n",
       "      <td>42</td>\n",
       "      <td>1095</td>\n",
       "      <td>This certification qualifies workers to operat...</td>\n",
       "      <td>Main</td>\n",
       "      <td>False</td>\n",
       "      <td>Main</td>\n",
       "      <td>OSH-3003-A</td>\n",
       "      <td>Aerial Work Platform Practical - Articulating ...</td>\n",
       "      <td>1.0</td>\n",
       "    </tr>\n",
       "    <tr>\n",
       "      <th>2</th>\n",
       "      <td>1</td>\n",
       "      <td>Aerial Work Platform Practical - Articulating ...</td>\n",
       "      <td>42</td>\n",
       "      <td>1095</td>\n",
       "      <td>This certification qualifies workers to operat...</td>\n",
       "      <td>Recertification</td>\n",
       "      <td>True</td>\n",
       "      <td>Main</td>\n",
       "      <td>OSH-1003-Online</td>\n",
       "      <td>Aerial Work Platform Theory (R3)</td>\n",
       "      <td>1.6</td>\n",
       "    </tr>\n",
       "    <tr>\n",
       "      <th>3</th>\n",
       "      <td>1</td>\n",
       "      <td>Aerial Work Platform Practical - Articulating ...</td>\n",
       "      <td>42</td>\n",
       "      <td>1095</td>\n",
       "      <td>This certification qualifies workers to operat...</td>\n",
       "      <td>Recertification</td>\n",
       "      <td>True</td>\n",
       "      <td>Main</td>\n",
       "      <td>OSH-3003-A</td>\n",
       "      <td>Aerial Work Platform Practical - Articulating ...</td>\n",
       "      <td>1.0</td>\n",
       "    </tr>\n",
       "    <tr>\n",
       "      <th>4</th>\n",
       "      <td>2</td>\n",
       "      <td>Aerial Work Platform Practical - Articulating ...</td>\n",
       "      <td>42</td>\n",
       "      <td>1095</td>\n",
       "      <td>This certification qualifies workers to operat...</td>\n",
       "      <td>Main</td>\n",
       "      <td>False</td>\n",
       "      <td>Main</td>\n",
       "      <td>OSH-1003-Online</td>\n",
       "      <td>Aerial Work Platform Theory (R3)</td>\n",
       "      <td>1.6</td>\n",
       "    </tr>\n",
       "  </tbody>\n",
       "</table>\n",
       "</div>"
      ],
      "text/plain": [
       "   Cert_number                                          Cert_name  \\\n",
       "0            1  Aerial Work Platform Practical - Articulating ...   \n",
       "1            1  Aerial Work Platform Practical - Articulating ...   \n",
       "2            1  Aerial Work Platform Practical - Articulating ...   \n",
       "3            1  Aerial Work Platform Practical - Articulating ...   \n",
       "4            2  Aerial Work Platform Practical - Articulating ...   \n",
       "\n",
       "   Target_days  Expires_in                                          Cert_desc  \\\n",
       "0           42        1095  This certification qualifies workers to operat...   \n",
       "1           42        1095  This certification qualifies workers to operat...   \n",
       "2           42        1095  This certification qualifies workers to operat...   \n",
       "3           42        1095  This certification qualifies workers to operat...   \n",
       "4           42        1095  This certification qualifies workers to operat...   \n",
       "\n",
       "              Path  Path_recert Module      Course_code  \\\n",
       "0             Main        False   Main  OSH-1003-Online   \n",
       "1             Main        False   Main      OSH-3003-A    \n",
       "2  Recertification         True   Main  OSH-1003-Online   \n",
       "3  Recertification         True   Main      OSH-3003-A    \n",
       "4             Main        False   Main  OSH-1003-Online   \n",
       "\n",
       "                                        Course_title  Course_version  \n",
       "0                   Aerial Work Platform Theory (R3)             1.6  \n",
       "1  Aerial Work Platform Practical - Articulating ...             1.0  \n",
       "2                   Aerial Work Platform Theory (R3)             1.6  \n",
       "3  Aerial Work Platform Practical - Articulating ...             1.0  \n",
       "4                   Aerial Work Platform Theory (R3)             1.6  "
      ]
     },
     "execution_count": 28,
     "metadata": {},
     "output_type": "execute_result"
    }
   ],
   "source": [
    "source = pd.read_excel(\"Input.xlsx\")\n",
    "source.head()"
   ]
  },
  {
   "cell_type": "markdown",
   "metadata": {},
   "source": [
    "### Set Variables"
   ]
  },
  {
   "cell_type": "code",
   "execution_count": 56,
   "metadata": {},
   "outputs": [
    {
     "name": "stdout",
     "output_type": "stream",
     "text": [
      "Cert Name: Aerial Work Platform Practical - Articulating Boom 135 ft\n",
      "Paths:  2\n",
      "Target:  42\n",
      "Expires:  1095\n",
      "Cert Name: Aerial Work Platform Practical - Articulating Boom 60 ft or Less\n",
      "Paths:  2\n",
      "Target:  42\n",
      "Expires:  1095\n"
     ]
    }
   ],
   "source": [
    "## Read Certs into separate df\n",
    "df_list = [d for _, d in source.groupby([CERT_NUMBER])]\n",
    "\n",
    "certs = []\n",
    "## For each cert, generate paths\n",
    "for cert in df_list:\n",
    "    cert_name = cert[CERT_NAME].iloc[0]\n",
    "    cert_target = cert[TARGET_DAYS].iloc[0]\n",
    "    cert_exp = cert[EXPIRES_IN].iloc[0]\n",
    "    cert_des = cert[CERT_DESC].iloc[0]\n",
    "    #print(cert_name, cert_target, cert_exp, cert_des)\n",
    "    curr_cert = Certification(cert_name, cert_target, cert_exp, cert_des)\n",
    "\n",
    "    ## Read paths for the cert\n",
    "    paths = []\n",
    "    path_list = [d for _, d in cert.groupby([PATH])]\n",
    "    ## For each path, generate list of courses and module\n",
    "    for path in path_list:\n",
    "        mod = Module()\n",
    "        for _, row in path.iterrows():\n",
    "            course_code = row[COURSE_CODE]\n",
    "            course_title = row[COURSE_TITLE]\n",
    "            course_version = row[COURSE_VERSION]\n",
    "            #print(course_code, course_title, course_version)\n",
    "            mod.add_course(course_code, course_title, course_version)\n",
    "            #mod.print_info()\n",
    "        path_name = path[PATH].iloc[0]\n",
    "        path_recert = path[PATH_RECERT].iloc[0]\n",
    "        #print(path_name, path_recert)\n",
    "        curr_path = Path(path_name, path_recert)\n",
    "        curr_cert.add_path(path)\n",
    "    certs.append(curr_cert)\n",
    "\n",
    "for cert in certs:\n",
    "    cert.print_info()\n"
   ]
  },
  {
   "cell_type": "markdown",
   "metadata": {},
   "source": [
    "### Write Output"
   ]
  },
  {
   "cell_type": "code",
   "execution_count": null,
   "metadata": {},
   "outputs": [],
   "source": []
  }
 ],
 "metadata": {
  "interpreter": {
   "hash": "4d722d3adfa415172c1f5238b519fb86b488acdae450fd691ab06c09f4ca9173"
  },
  "kernelspec": {
   "display_name": "Python 3.9.7 ('ml3950')",
   "language": "python",
   "name": "python3"
  },
  "language_info": {
   "codemirror_mode": {
    "name": "ipython",
    "version": 3
   },
   "file_extension": ".py",
   "mimetype": "text/x-python",
   "name": "python",
   "nbconvert_exporter": "python",
   "pygments_lexer": "ipython3",
   "version": "3.9.7"
  },
  "orig_nbformat": 4
 },
 "nbformat": 4,
 "nbformat_minor": 2
}
