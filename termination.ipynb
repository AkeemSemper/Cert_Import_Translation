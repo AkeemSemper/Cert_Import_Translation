{
 "cells": [
  {
   "cell_type": "code",
   "execution_count": null,
   "metadata": {},
   "outputs": [],
   "source": [
    "import pandas as pd\n",
    "import numpy as np\n",
    "import time"
   ]
  },
  {
   "attachments": {},
   "cell_type": "markdown",
   "metadata": {},
   "source": [
    "# Terminations\n",
    "\n",
    "### Read Data"
   ]
  },
  {
   "cell_type": "code",
   "execution_count": null,
   "metadata": {},
   "outputs": [],
   "source": [
    "TEMP_PATH = \"termination_source/Person Internal_Termination RDI Template.xlsx\"\n",
    "#PEOPLE_PATH = \"Terminations - July 1, 2022.xlsx\"\n",
    "PEOPLE_PATH = \"termination_source/Terminations - July 1, 2022.xlsx\"\n",
    "template = pd.read_excel(TEMP_PATH, sheet_name=\"Sheet1\")\n",
    "people = pd.read_excel(PEOPLE_PATH)"
   ]
  },
  {
   "attachments": {},
   "cell_type": "markdown",
   "metadata": {},
   "source": [
    "#### Preview Data"
   ]
  },
  {
   "cell_type": "code",
   "execution_count": null,
   "metadata": {},
   "outputs": [],
   "source": [
    "people.head()"
   ]
  },
  {
   "attachments": {},
   "cell_type": "markdown",
   "metadata": {},
   "source": [
    "## Translation\n",
    "\n",
    "Needed columns, in order of the template. "
   ]
  },
  {
   "cell_type": "code",
   "execution_count": null,
   "metadata": {},
   "outputs": [],
   "source": [
    "# Complete - Values in source\n",
    "person_no_source = \"\"\n",
    "person_no_dest = \"PERSON_NO\"\n",
    "person_no_val = \"SKIP\"\n",
    "# Complete - Values static\n",
    "status_dest = \"STATUS\"\n",
    "status_val = \"Terminated\"\n",
    "#Complete - Values in source\n",
    "terminated_on_source = \"Action Date\"\n",
    "terminated_on_dest = \"TERMINATED_ON\"\n",
    "# Complete - Values static\n",
    "security_domain_dest = \"SECURITY_DOMAIN\"\n",
    "security_domain_val = \"CNL Global\"\n",
    "# Complete - Values static\n",
    "gender_dest = \"GENDER\"\n",
    "gender_val = 2\n",
    "# Complete - Values static\n",
    "home_domain_dest = \"HOME_DOMAIN\"\n",
    "home_domain_val = \"CNL Global\"\n",
    "# Complete - Values static\n",
    "locale_dest = \"LOCALE\"\n",
    "locale_val = \"en_us\"\n",
    "# Complete - Values static\n",
    "timezone_dest = \"TIMEZONE\"\n",
    "timezone_val = \"(GMT-05:00) Eastern Time (US & Canada)\"\n",
    "# Incomplete - Need Source\n",
    "company_source = \"\"\n",
    "company_dest = \"COMPANY\"\n",
    "company_val = \"SKIP\"\n",
    "# Complete - need to split\n",
    "name_source = \"Employee Name\"\n",
    "fname_source = \"fname\"\n",
    "lname_source = \"lname\"\n",
    "fname_dest = \"FNAME\"\n",
    "lname_dest = \"LNAME\"\n",
    "# Complete - Values in source\n",
    "user_name_source = \"EN\"\n",
    "user_name_dest = \"USERNAME\""
   ]
  },
  {
   "attachments": {},
   "cell_type": "markdown",
   "metadata": {},
   "source": [
    "##### Split Names"
   ]
  },
  {
   "cell_type": "code",
   "execution_count": null,
   "metadata": {},
   "outputs": [],
   "source": [
    "people[[lname_source, fname_source]] = people[name_source].str.split(\",\", n = 1, expand = True)\n",
    "people.head()"
   ]
  },
  {
   "cell_type": "code",
   "execution_count": null,
   "metadata": {},
   "outputs": [],
   "source": [
    "people[fname_source]\n"
   ]
  },
  {
   "attachments": {},
   "cell_type": "markdown",
   "metadata": {},
   "source": [
    "### Create Output"
   ]
  },
  {
   "cell_type": "code",
   "execution_count": null,
   "metadata": {},
   "outputs": [],
   "source": [
    "template[person_no_dest] = person_no_val\n",
    "template[status_dest] = status_val\n",
    "template[terminated_on_dest] = people[terminated_on_source]\n",
    "template[security_domain_dest] = security_domain_val\n",
    "template[gender_dest] = gender_val\n",
    "template[home_domain_dest] = home_domain_val\n",
    "template[locale_dest] = locale_val\n",
    "template[timezone_dest] = timezone_val\n",
    "template[company_dest] = company_val\n",
    "template[fname_dest] = people[fname_source]\n",
    "template[lname_dest] = people[lname_source]\n",
    "template[user_name_dest] = people[user_name_source]\n",
    "template.head()"
   ]
  },
  {
   "attachments": {},
   "cell_type": "markdown",
   "metadata": {},
   "source": [
    "#### Write CSV"
   ]
  },
  {
   "cell_type": "code",
   "execution_count": null,
   "metadata": {},
   "outputs": [],
   "source": [
    "write_time = time.strftime(\"%Y%m%d-%H%M%S\")\n",
    "fname = \"termination_out/termination_template \" + write_time + \".csv\"\n",
    "template.to_csv(fname, index=False)"
   ]
  }
 ],
 "metadata": {
  "kernelspec": {
   "display_name": "ml3950",
   "language": "python",
   "name": "python3"
  },
  "language_info": {
   "codemirror_mode": {
    "name": "ipython",
    "version": 3
   },
   "file_extension": ".py",
   "mimetype": "text/x-python",
   "name": "python",
   "nbconvert_exporter": "python",
   "pygments_lexer": "ipython3",
   "version": "3.9.7"
  },
  "orig_nbformat": 4
 },
 "nbformat": 4,
 "nbformat_minor": 2
}
