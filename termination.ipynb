{
 "cells": [
  {
   "cell_type": "code",
   "execution_count": 60,
   "metadata": {},
   "outputs": [],
   "source": [
    "import pandas as pd\n",
    "import numpy as np\n",
    "import time"
   ]
  },
  {
   "attachments": {},
   "cell_type": "markdown",
   "metadata": {},
   "source": [
    "# Terminations\n",
    "\n",
    "### Read Data"
   ]
  },
  {
   "cell_type": "code",
   "execution_count": 61,
   "metadata": {},
   "outputs": [],
   "source": [
    "TEMP_PATH = \"termination_source/Person Internal_Termination RDI Template.xlsx\"\n",
    "#PEOPLE_PATH = \"Terminations - July 1, 2022.xlsx\"\n",
    "PEOPLE_PATH = \"termination_source/Terminations - July 1, 2022.xlsx\"\n",
    "#template = pd.read_excel(TEMP_PATH, sheet_name=\"Sheet1\")\n",
    "people = pd.read_excel(PEOPLE_PATH)"
   ]
  },
  {
   "attachments": {},
   "cell_type": "markdown",
   "metadata": {},
   "source": [
    "#### Preview Data"
   ]
  },
  {
   "cell_type": "code",
   "execution_count": 62,
   "metadata": {},
   "outputs": [
    {
     "data": {
      "text/html": [
       "<div>\n",
       "<style scoped>\n",
       "    .dataframe tbody tr th:only-of-type {\n",
       "        vertical-align: middle;\n",
       "    }\n",
       "\n",
       "    .dataframe tbody tr th {\n",
       "        vertical-align: top;\n",
       "    }\n",
       "\n",
       "    .dataframe thead th {\n",
       "        text-align: right;\n",
       "    }\n",
       "</style>\n",
       "<table border=\"1\" class=\"dataframe\">\n",
       "  <thead>\n",
       "    <tr style=\"text-align: right;\">\n",
       "      <th></th>\n",
       "      <th>EN</th>\n",
       "      <th>Employee Name</th>\n",
       "      <th>Site</th>\n",
       "      <th>Action Date</th>\n",
       "      <th>Business Title</th>\n",
       "    </tr>\n",
       "  </thead>\n",
       "  <tbody>\n",
       "    <tr>\n",
       "      <th>0</th>\n",
       "      <td>92265</td>\n",
       "      <td>Abusaleh, Majdi</td>\n",
       "      <td>HR Chalk River</td>\n",
       "      <td>2022-10-20</td>\n",
       "      <td>Contingent Worker</td>\n",
       "    </tr>\n",
       "    <tr>\n",
       "      <th>1</th>\n",
       "      <td>91918</td>\n",
       "      <td>Acton, Tyler</td>\n",
       "      <td>HR Port Hope</td>\n",
       "      <td>2023-02-03</td>\n",
       "      <td>CWK - Radiation Surveyor</td>\n",
       "    </tr>\n",
       "    <tr>\n",
       "      <th>2</th>\n",
       "      <td>58024</td>\n",
       "      <td>Adams, Lynne</td>\n",
       "      <td>HR Chalk River</td>\n",
       "      <td>2023-03-31</td>\n",
       "      <td>Manager, Waste &amp; Transportation Programs</td>\n",
       "    </tr>\n",
       "    <tr>\n",
       "      <th>3</th>\n",
       "      <td>56328</td>\n",
       "      <td>Adams, Tamara</td>\n",
       "      <td>HR Chalk River</td>\n",
       "      <td>2023-01-23</td>\n",
       "      <td>Project Control Coordinator</td>\n",
       "    </tr>\n",
       "    <tr>\n",
       "      <th>4</th>\n",
       "      <td>20924</td>\n",
       "      <td>Addicott, Bruce</td>\n",
       "      <td>HR Chalk River</td>\n",
       "      <td>2022-07-22</td>\n",
       "      <td>R&amp;D Officer</td>\n",
       "    </tr>\n",
       "  </tbody>\n",
       "</table>\n",
       "</div>"
      ],
      "text/plain": [
       "      EN    Employee Name            Site Action Date  \\\n",
       "0  92265  Abusaleh, Majdi  HR Chalk River  2022-10-20   \n",
       "1  91918     Acton, Tyler    HR Port Hope  2023-02-03   \n",
       "2  58024     Adams, Lynne  HR Chalk River  2023-03-31   \n",
       "3  56328    Adams, Tamara  HR Chalk River  2023-01-23   \n",
       "4  20924  Addicott, Bruce  HR Chalk River  2022-07-22   \n",
       "\n",
       "                             Business Title  \n",
       "0                         Contingent Worker  \n",
       "1                  CWK - Radiation Surveyor  \n",
       "2  Manager, Waste & Transportation Programs  \n",
       "3               Project Control Coordinator  \n",
       "4                               R&D Officer  "
      ]
     },
     "execution_count": 62,
     "metadata": {},
     "output_type": "execute_result"
    }
   ],
   "source": [
    "people.head()"
   ]
  },
  {
   "attachments": {},
   "cell_type": "markdown",
   "metadata": {},
   "source": [
    "## Translation\n",
    "\n",
    "Needed columns, in order of the template. "
   ]
  },
  {
   "cell_type": "code",
   "execution_count": 63,
   "metadata": {},
   "outputs": [],
   "source": [
    "# Complete - Values in source\n",
    "person_no_source = \"\"\n",
    "person_no_dest = \"PERSON_NO\"\n",
    "person_no_val = \"SKIP\"\n",
    "# Complete - Values static\n",
    "status_dest = \"STATUS\"\n",
    "status_val = \"Terminated\"\n",
    "#Complete - Values in source\n",
    "terminated_on_source = \"Action Date\"\n",
    "terminated_on_dest = \"TERMINATED_ON\"\n",
    "# Complete - Values static\n",
    "security_domain_dest = \"SECURITY_DOMAIN\"\n",
    "security_domain_val = \"CNL Global\"\n",
    "# Complete - Values static\n",
    "gender_dest = \"GENDER\"\n",
    "gender_val = 2\n",
    "# Complete - Values static\n",
    "home_domain_dest = \"HOME_DOMAIN\"\n",
    "home_domain_val = \"CNL Global\"\n",
    "# Complete - Values static\n",
    "locale_dest = \"LOCALE\"\n",
    "locale_val = \"en_us\"\n",
    "# Complete - Values static\n",
    "timezone_dest = \"TIMEZONE\"\n",
    "timezone_val = \"(GMT-05:00) Eastern Time (US & Canada)\"\n",
    "# Incomplete - Need Source\n",
    "company_source = \"\"\n",
    "company_dest = \"COMPANY\"\n",
    "company_val = \"SKIP\"\n",
    "# Complete - need to split\n",
    "name_source = \"Employee Name\"\n",
    "fname_source = \"fname\"\n",
    "lname_source = \"lname\"\n",
    "fname_dest = \"FNAME\"\n",
    "lname_dest = \"LNAME\"\n",
    "# Complete - Values in source\n",
    "user_name_source = \"EN\"\n",
    "user_name_dest = \"USERNAME\""
   ]
  },
  {
   "cell_type": "code",
   "execution_count": 64,
   "metadata": {},
   "outputs": [],
   "source": [
    "template = pd.DataFrame(columns=[person_no_dest, status_dest, terminated_on_dest,\n",
    "                                 security_domain_dest, gender_dest, home_domain_dest,\n",
    "                                 locale_dest, timezone_dest, company_dest, fname_dest,\n",
    "                                 lname_dest, user_name_dest])"
   ]
  },
  {
   "attachments": {},
   "cell_type": "markdown",
   "metadata": {},
   "source": [
    "##### Split Names"
   ]
  },
  {
   "cell_type": "code",
   "execution_count": 65,
   "metadata": {},
   "outputs": [
    {
     "data": {
      "text/html": [
       "<div>\n",
       "<style scoped>\n",
       "    .dataframe tbody tr th:only-of-type {\n",
       "        vertical-align: middle;\n",
       "    }\n",
       "\n",
       "    .dataframe tbody tr th {\n",
       "        vertical-align: top;\n",
       "    }\n",
       "\n",
       "    .dataframe thead th {\n",
       "        text-align: right;\n",
       "    }\n",
       "</style>\n",
       "<table border=\"1\" class=\"dataframe\">\n",
       "  <thead>\n",
       "    <tr style=\"text-align: right;\">\n",
       "      <th></th>\n",
       "      <th>EN</th>\n",
       "      <th>Employee Name</th>\n",
       "      <th>Site</th>\n",
       "      <th>Action Date</th>\n",
       "      <th>Business Title</th>\n",
       "      <th>lname</th>\n",
       "      <th>fname</th>\n",
       "    </tr>\n",
       "  </thead>\n",
       "  <tbody>\n",
       "    <tr>\n",
       "      <th>0</th>\n",
       "      <td>92265</td>\n",
       "      <td>Abusaleh, Majdi</td>\n",
       "      <td>HR Chalk River</td>\n",
       "      <td>2022-10-20</td>\n",
       "      <td>Contingent Worker</td>\n",
       "      <td>Abusaleh</td>\n",
       "      <td>Majdi</td>\n",
       "    </tr>\n",
       "    <tr>\n",
       "      <th>1</th>\n",
       "      <td>91918</td>\n",
       "      <td>Acton, Tyler</td>\n",
       "      <td>HR Port Hope</td>\n",
       "      <td>2023-02-03</td>\n",
       "      <td>CWK - Radiation Surveyor</td>\n",
       "      <td>Acton</td>\n",
       "      <td>Tyler</td>\n",
       "    </tr>\n",
       "    <tr>\n",
       "      <th>2</th>\n",
       "      <td>58024</td>\n",
       "      <td>Adams, Lynne</td>\n",
       "      <td>HR Chalk River</td>\n",
       "      <td>2023-03-31</td>\n",
       "      <td>Manager, Waste &amp; Transportation Programs</td>\n",
       "      <td>Adams</td>\n",
       "      <td>Lynne</td>\n",
       "    </tr>\n",
       "    <tr>\n",
       "      <th>3</th>\n",
       "      <td>56328</td>\n",
       "      <td>Adams, Tamara</td>\n",
       "      <td>HR Chalk River</td>\n",
       "      <td>2023-01-23</td>\n",
       "      <td>Project Control Coordinator</td>\n",
       "      <td>Adams</td>\n",
       "      <td>Tamara</td>\n",
       "    </tr>\n",
       "    <tr>\n",
       "      <th>4</th>\n",
       "      <td>20924</td>\n",
       "      <td>Addicott, Bruce</td>\n",
       "      <td>HR Chalk River</td>\n",
       "      <td>2022-07-22</td>\n",
       "      <td>R&amp;D Officer</td>\n",
       "      <td>Addicott</td>\n",
       "      <td>Bruce</td>\n",
       "    </tr>\n",
       "  </tbody>\n",
       "</table>\n",
       "</div>"
      ],
      "text/plain": [
       "      EN    Employee Name            Site Action Date  \\\n",
       "0  92265  Abusaleh, Majdi  HR Chalk River  2022-10-20   \n",
       "1  91918     Acton, Tyler    HR Port Hope  2023-02-03   \n",
       "2  58024     Adams, Lynne  HR Chalk River  2023-03-31   \n",
       "3  56328    Adams, Tamara  HR Chalk River  2023-01-23   \n",
       "4  20924  Addicott, Bruce  HR Chalk River  2022-07-22   \n",
       "\n",
       "                             Business Title     lname    fname  \n",
       "0                         Contingent Worker  Abusaleh    Majdi  \n",
       "1                  CWK - Radiation Surveyor     Acton    Tyler  \n",
       "2  Manager, Waste & Transportation Programs     Adams    Lynne  \n",
       "3               Project Control Coordinator     Adams   Tamara  \n",
       "4                               R&D Officer  Addicott    Bruce  "
      ]
     },
     "execution_count": 65,
     "metadata": {},
     "output_type": "execute_result"
    }
   ],
   "source": [
    "people[[lname_source, fname_source]] = people[name_source].str.split(\",\", n = 1, expand = True)\n",
    "people.head()"
   ]
  },
  {
   "cell_type": "code",
   "execution_count": 66,
   "metadata": {},
   "outputs": [
    {
     "data": {
      "text/plain": [
       "0                Majdi\n",
       "1                Tyler\n",
       "2                Lynne\n",
       "3               Tamara\n",
       "4                Bruce\n",
       "            ...       \n",
       "474               Zaki\n",
       "475            Derrick\n",
       "476     Zhaoli Charlie\n",
       "477               Zane\n",
       "478             Andrew\n",
       "Name: fname, Length: 479, dtype: object"
      ]
     },
     "execution_count": 66,
     "metadata": {},
     "output_type": "execute_result"
    }
   ],
   "source": [
    "people[fname_source]\n"
   ]
  },
  {
   "attachments": {},
   "cell_type": "markdown",
   "metadata": {},
   "source": [
    "### Create Output"
   ]
  },
  {
   "cell_type": "code",
   "execution_count": 72,
   "metadata": {},
   "outputs": [
    {
     "data": {
      "text/html": [
       "<div>\n",
       "<style scoped>\n",
       "    .dataframe tbody tr th:only-of-type {\n",
       "        vertical-align: middle;\n",
       "    }\n",
       "\n",
       "    .dataframe tbody tr th {\n",
       "        vertical-align: top;\n",
       "    }\n",
       "\n",
       "    .dataframe thead th {\n",
       "        text-align: right;\n",
       "    }\n",
       "</style>\n",
       "<table border=\"1\" class=\"dataframe\">\n",
       "  <thead>\n",
       "    <tr style=\"text-align: right;\">\n",
       "      <th></th>\n",
       "      <th>PERSON_NO</th>\n",
       "      <th>STATUS</th>\n",
       "      <th>TERMINATED_ON</th>\n",
       "      <th>SECURITY_DOMAIN</th>\n",
       "      <th>GENDER</th>\n",
       "      <th>HOME_DOMAIN</th>\n",
       "      <th>LOCALE</th>\n",
       "      <th>TIMEZONE</th>\n",
       "      <th>COMPANY</th>\n",
       "      <th>FNAME</th>\n",
       "      <th>LNAME</th>\n",
       "      <th>USERNAME</th>\n",
       "    </tr>\n",
       "  </thead>\n",
       "  <tbody>\n",
       "    <tr>\n",
       "      <th>0</th>\n",
       "      <td>SKIP</td>\n",
       "      <td>Terminated</td>\n",
       "      <td>2022-10-20</td>\n",
       "      <td>CNL Global</td>\n",
       "      <td>2</td>\n",
       "      <td>CNL Global</td>\n",
       "      <td>en_us</td>\n",
       "      <td>(GMT-05:00) Eastern Time (US &amp; Canada)</td>\n",
       "      <td>SKIP</td>\n",
       "      <td>Majdi</td>\n",
       "      <td>Abusaleh</td>\n",
       "      <td>92265</td>\n",
       "    </tr>\n",
       "    <tr>\n",
       "      <th>1</th>\n",
       "      <td>SKIP</td>\n",
       "      <td>Terminated</td>\n",
       "      <td>2023-02-03</td>\n",
       "      <td>CNL Global</td>\n",
       "      <td>2</td>\n",
       "      <td>CNL Global</td>\n",
       "      <td>en_us</td>\n",
       "      <td>(GMT-05:00) Eastern Time (US &amp; Canada)</td>\n",
       "      <td>SKIP</td>\n",
       "      <td>Tyler</td>\n",
       "      <td>Acton</td>\n",
       "      <td>91918</td>\n",
       "    </tr>\n",
       "    <tr>\n",
       "      <th>2</th>\n",
       "      <td>SKIP</td>\n",
       "      <td>Terminated</td>\n",
       "      <td>2023-03-31</td>\n",
       "      <td>CNL Global</td>\n",
       "      <td>2</td>\n",
       "      <td>CNL Global</td>\n",
       "      <td>en_us</td>\n",
       "      <td>(GMT-05:00) Eastern Time (US &amp; Canada)</td>\n",
       "      <td>SKIP</td>\n",
       "      <td>Lynne</td>\n",
       "      <td>Adams</td>\n",
       "      <td>58024</td>\n",
       "    </tr>\n",
       "    <tr>\n",
       "      <th>3</th>\n",
       "      <td>SKIP</td>\n",
       "      <td>Terminated</td>\n",
       "      <td>2023-01-23</td>\n",
       "      <td>CNL Global</td>\n",
       "      <td>2</td>\n",
       "      <td>CNL Global</td>\n",
       "      <td>en_us</td>\n",
       "      <td>(GMT-05:00) Eastern Time (US &amp; Canada)</td>\n",
       "      <td>SKIP</td>\n",
       "      <td>Tamara</td>\n",
       "      <td>Adams</td>\n",
       "      <td>56328</td>\n",
       "    </tr>\n",
       "    <tr>\n",
       "      <th>4</th>\n",
       "      <td>SKIP</td>\n",
       "      <td>Terminated</td>\n",
       "      <td>2022-07-22</td>\n",
       "      <td>CNL Global</td>\n",
       "      <td>2</td>\n",
       "      <td>CNL Global</td>\n",
       "      <td>en_us</td>\n",
       "      <td>(GMT-05:00) Eastern Time (US &amp; Canada)</td>\n",
       "      <td>SKIP</td>\n",
       "      <td>Bruce</td>\n",
       "      <td>Addicott</td>\n",
       "      <td>20924</td>\n",
       "    </tr>\n",
       "  </tbody>\n",
       "</table>\n",
       "</div>"
      ],
      "text/plain": [
       "  PERSON_NO      STATUS TERMINATED_ON SECURITY_DOMAIN  GENDER HOME_DOMAIN  \\\n",
       "0      SKIP  Terminated    2022-10-20      CNL Global       2  CNL Global   \n",
       "1      SKIP  Terminated    2023-02-03      CNL Global       2  CNL Global   \n",
       "2      SKIP  Terminated    2023-03-31      CNL Global       2  CNL Global   \n",
       "3      SKIP  Terminated    2023-01-23      CNL Global       2  CNL Global   \n",
       "4      SKIP  Terminated    2022-07-22      CNL Global       2  CNL Global   \n",
       "\n",
       "  LOCALE                                TIMEZONE COMPANY    FNAME     LNAME  \\\n",
       "0  en_us  (GMT-05:00) Eastern Time (US & Canada)    SKIP    Majdi  Abusaleh   \n",
       "1  en_us  (GMT-05:00) Eastern Time (US & Canada)    SKIP    Tyler     Acton   \n",
       "2  en_us  (GMT-05:00) Eastern Time (US & Canada)    SKIP    Lynne     Adams   \n",
       "3  en_us  (GMT-05:00) Eastern Time (US & Canada)    SKIP   Tamara     Adams   \n",
       "4  en_us  (GMT-05:00) Eastern Time (US & Canada)    SKIP    Bruce  Addicott   \n",
       "\n",
       "   USERNAME  \n",
       "0     92265  \n",
       "1     91918  \n",
       "2     58024  \n",
       "3     56328  \n",
       "4     20924  "
      ]
     },
     "execution_count": 72,
     "metadata": {},
     "output_type": "execute_result"
    }
   ],
   "source": [
    "template[person_no_dest] = person_no_val\n",
    "template[status_dest] = status_val\n",
    "template[terminated_on_dest] = people[terminated_on_source]\n",
    "template[security_domain_dest] = security_domain_val\n",
    "template[gender_dest] = gender_val\n",
    "template[home_domain_dest] = home_domain_val\n",
    "template[locale_dest] = locale_val\n",
    "template[timezone_dest] = timezone_val\n",
    "template[company_dest] = company_val\n",
    "template[fname_dest] = people[fname_source]\n",
    "template[lname_dest] = people[lname_source]\n",
    "template[user_name_dest] = people[user_name_source]\n",
    "template.head()"
   ]
  },
  {
   "attachments": {},
   "cell_type": "markdown",
   "metadata": {},
   "source": [
    "#### Write CSV"
   ]
  },
  {
   "cell_type": "code",
   "execution_count": 73,
   "metadata": {},
   "outputs": [
    {
     "name": "stdout",
     "output_type": "stream",
     "text": [
      "File written to: termination_out/termination_template 20230425-105315.csv\n"
     ]
    }
   ],
   "source": [
    "write_time = time.strftime(\"%Y%m%d-%H%M%S\")\n",
    "fname = \"termination_out/termination_template \" + write_time + \".csv\"\n",
    "template.to_csv(fname, index=False)\n",
    "print(\"File written to: \" + fname)"
   ]
  }
 ],
 "metadata": {
  "kernelspec": {
   "display_name": "ml3950",
   "language": "python",
   "name": "python3"
  },
  "language_info": {
   "codemirror_mode": {
    "name": "ipython",
    "version": 3
   },
   "file_extension": ".py",
   "mimetype": "text/x-python",
   "name": "python",
   "nbconvert_exporter": "python",
   "pygments_lexer": "ipython3",
   "version": "3.9.7"
  },
  "orig_nbformat": 4,
  "vscode": {
   "interpreter": {
    "hash": "4d722d3adfa415172c1f5238b519fb86b488acdae450fd691ab06c09f4ca9173"
   }
  }
 },
 "nbformat": 4,
 "nbformat_minor": 2
}
